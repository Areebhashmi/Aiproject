{
 "cells": [
  {
   "cell_type": "code",
   "execution_count": null,
   "metadata": {},
   "outputs": [],
   "source": [
    "a=10\n",
    "b=12.5\n",
    "c=True\n",
    "d=\"String\""
   ]
  },
  {
   "cell_type": "code",
   "execution_count": 1,
   "metadata": {},
   "outputs": [
    {
     "data": {
      "text/plain": [
       "4.0"
      ]
     },
     "execution_count": 1,
     "metadata": {},
     "output_type": "execute_result"
    }
   ],
   "source": [
    "12/3"
   ]
  },
  {
   "cell_type": "code",
   "execution_count": 2,
   "metadata": {},
   "outputs": [
    {
     "data": {
      "text/plain": [
       "4"
      ]
     },
     "execution_count": 2,
     "metadata": {},
     "output_type": "execute_result"
    }
   ],
   "source": [
    "12//3"
   ]
  },
  {
   "cell_type": "code",
   "execution_count": 3,
   "metadata": {},
   "outputs": [
    {
     "name": "stdout",
     "output_type": "stream",
     "text": [
      "9\n"
     ]
    }
   ],
   "source": [
    "num=7\n",
    "num+=2\n",
    "print(num)"
   ]
  },
  {
   "cell_type": "code",
   "execution_count": 4,
   "metadata": {},
   "outputs": [
    {
     "name": "stdout",
     "output_type": "stream",
     "text": [
      "7\n"
     ]
    }
   ],
   "source": [
    "num-=2\n",
    "print(num)"
   ]
  },
  {
   "cell_type": "code",
   "execution_count": 5,
   "metadata": {},
   "outputs": [
    {
     "name": "stdout",
     "output_type": "stream",
     "text": [
      "14\n"
     ]
    }
   ],
   "source": [
    "num*=2\n",
    "print(num)"
   ]
  },
  {
   "cell_type": "code",
   "execution_count": 6,
   "metadata": {},
   "outputs": [
    {
     "name": "stdout",
     "output_type": "stream",
     "text": [
      "14\n"
     ]
    }
   ],
   "source": [
    "n=(12*3)//4+5\n",
    "print(n)"
   ]
  },
  {
   "cell_type": "code",
   "execution_count": 8,
   "metadata": {
    "scrolled": true
   },
   "outputs": [
    {
     "name": "stdout",
     "output_type": "stream",
     "text": [
      "Enter ur Name :Areeb\n",
      "Areeb\n"
     ]
    }
   ],
   "source": [
    "name=input(\"Enter ur Name :\")\n",
    "print(name)"
   ]
  },
  {
   "cell_type": "code",
   "execution_count": 9,
   "metadata": {},
   "outputs": [
    {
     "name": "stdout",
     "output_type": "stream",
     "text": [
      "Enter ur Name :areeb\n",
      "enter ur age : 21\n",
      "My name is areeb and my age is 21\n"
     ]
    }
   ],
   "source": [
    "name=input(\"Enter ur Name :\")\n",
    "age=input(\"enter ur age : \")\n",
    "print(f\"My name is {name} and my age is {age}\")"
   ]
  },
  {
   "cell_type": "code",
   "execution_count": 10,
   "metadata": {},
   "outputs": [
    {
     "data": {
      "text/plain": [
       "str"
      ]
     },
     "execution_count": 10,
     "metadata": {},
     "output_type": "execute_result"
    }
   ],
   "source": [
    "type(f\"My name is {name} and my age is {age}\")"
   ]
  },
  {
   "cell_type": "code",
   "execution_count": 18,
   "metadata": {},
   "outputs": [
    {
     "name": "stdout",
     "output_type": "stream",
     "text": [
      "Enter a num :3\n",
      "num is odd\n"
     ]
    }
   ],
   "source": [
    "a=int(input(\"Enter a num :\"))\n",
    "if a%2==0:\n",
    "    print(\"num is even\")\n",
    "if a%2!=0:\n",
    "    print(\"num is odd\")\n"
   ]
  },
  {
   "cell_type": "code",
   "execution_count": 20,
   "metadata": {},
   "outputs": [
    {
     "name": "stdout",
     "output_type": "stream",
     "text": [
      "Enter a num :25\n",
      "num is odd\n"
     ]
    }
   ],
   "source": [
    "a=int(input(\"Enter a num :\"))\n",
    "if a%2==0:\n",
    "    print(\"num is even\")\n",
    "else: \n",
    "    print(\"num is odd\")"
   ]
  },
  {
   "cell_type": "code",
   "execution_count": 10,
   "metadata": {},
   "outputs": [
    {
     "name": "stdout",
     "output_type": "stream",
     "text": [
      "Enter your age :78\n",
      "you are death according to research\n"
     ]
    }
   ],
   "source": [
    "a=int(input(\"Enter your age :\"))\n",
    "if a>0 and a<2 :\n",
    "    print(\"your are infant\")\n",
    "elif a>2 and a<15 :\n",
    "    print(\"your are in School boy\")\n",
    "elif a>15 and a<23 :\n",
    "    print(\"your are lover\")\n",
    "elif a>23 and a<30 :\n",
    "    print(\"your are soldier\")\n",
    "elif a>30 and a<50 :\n",
    "    print(\"your are justice\")    \n",
    "elif a>50 and a<60 :\n",
    "    print(\"your are pantalone\")\n",
    "elif a>60 and a<70 :\n",
    "    print(\"your are old\")\n",
    "else :\n",
    "    print(\"you are death according to research\")\n",
    "    "
   ]
  },
  {
   "cell_type": "code",
   "execution_count": 7,
   "metadata": {},
   "outputs": [
    {
     "name": "stdout",
     "output_type": "stream",
     "text": [
      "Do you have ticket? :NO\n",
      "you don't allow to see movie\n"
     ]
    }
   ],
   "source": [
    "visitor=(input(\"Do you have ticket? :\").lower())\n",
    "if visitor == \"yes\":\n",
    "    print(\"ok\")\n",
    "    visitor=(input(\"Do you have ticket? :\").lower())\n",
    "    if visitor == \"yes\":\n",
    "        print(\"know you can see movie\")\n",
    "    else: \n",
    "        print(\"you don't allow to see movie\")\n",
    "else: \n",
    "        print(\"you don't allow to see movie\")        "
   ]
  },
  {
   "cell_type": "code",
   "execution_count": null,
   "metadata": {},
   "outputs": [],
   "source": []
  }
 ],
 "metadata": {
  "kernelspec": {
   "display_name": "Python 3",
   "language": "python",
   "name": "python3"
  },
  "language_info": {
   "codemirror_mode": {
    "name": "ipython",
    "version": 3
   },
   "file_extension": ".py",
   "mimetype": "text/x-python",
   "name": "python",
   "nbconvert_exporter": "python",
   "pygments_lexer": "ipython3",
   "version": "3.7.3"
  }
 },
 "nbformat": 4,
 "nbformat_minor": 2
}
